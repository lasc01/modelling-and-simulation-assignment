{
 "cells": [
  {
   "cell_type": "code",
   "execution_count": 1,
   "id": "b8544e8a-dde9-469d-b260-1545604a45c8",
   "metadata": {},
   "outputs": [],
   "source": [
    "# Initializing Environment and Resources\n",
    "import simpy\n",
    "\n",
    "env = simpy.Environment()\n",
    "truck = simpy.Resource(env, capacity=1)\n",
    "crane = simpy.Resource(env, capacity=1)"
   ]
  },
  {
   "cell_type": "code",
   "execution_count": 2,
   "id": "74a92ee2-9613-4193-9eb8-e3c9f7264bef",
   "metadata": {},
   "outputs": [],
   "source": [
    "# Container Process (entities)\n",
    "def container(env, name, truck, crane):\n",
    "    arrival_time = env.now\n",
    "    print(f\"{env.now:.2f}h - Container {name} ready at mine.\")\n",
    "\n",
    "    with truck.request() as req_truck:\n",
    "        yield req_truck\n",
    "        print(f\"{env.now:.2f}h - Container {name} loading onto truck.\")\n",
    "        truck_travel_time = 1.5  # hours\n",
    "        yield env.timeout(truck_travel_time)\n",
    "\n",
    "    print(f\"{env.now:.2f}h - Container {name} arrived at Chifeng Terminal.\")\n",
    "\n",
    "    with crane.request() as req_crane:\n",
    "        yield req_crane\n",
    "        print(f\"{env.now:.2f}h - Container {name} being loaded onto train.\")\n",
    "        crane_handling_time = 0.5  # hours\n",
    "        yield env.timeout(crane_handling_time)\n",
    "\n",
    "    print(f\"{env.now:.2f}h - Container {name} loaded onto train, ready for departure.\")"
   ]
  },
  {
   "cell_type": "code",
   "execution_count": 3,
   "id": "49a62b9c-1410-45f1-8321-227ec90c335b",
   "metadata": {},
   "outputs": [],
   "source": [
    "# Daily Train Departure (event)\n",
    "def daily_train_departure(env):\n",
    "    yield env.timeout(24)  # Train departs once daily\n",
    "    print(f\"{env.now:.2f}h - Train departs Chifeng for Tianjin with containers onboard.\")"
   ]
  },
  {
   "cell_type": "code",
   "execution_count": 4,
   "id": "55fa3385-5346-4f82-ad17-91483449a4ce",
   "metadata": {},
   "outputs": [
    {
     "name": "stdout",
     "output_type": "stream",
     "text": [
      "0.00h - Container C1 ready at mine.\n",
      "0.00h - Container C2 ready at mine.\n",
      "0.00h - Container C3 ready at mine.\n",
      "0.00h - Container C1 loading onto truck.\n",
      "1.50h - Container C1 arrived at Chifeng Terminal.\n",
      "1.50h - Container C1 being loaded onto train.\n",
      "1.50h - Container C2 loading onto truck.\n",
      "2.00h - Container C1 loaded onto train, ready for departure.\n",
      "3.00h - Container C2 arrived at Chifeng Terminal.\n",
      "3.00h - Container C2 being loaded onto train.\n",
      "3.00h - Container C3 loading onto truck.\n",
      "3.50h - Container C2 loaded onto train, ready for departure.\n",
      "4.50h - Container C3 arrived at Chifeng Terminal.\n",
      "4.50h - Container C3 being loaded onto train.\n",
      "5.00h - Container C3 loaded onto train, ready for departure.\n"
     ]
    }
   ],
   "source": [
    "# Setup & Run the Simulation\n",
    "\n",
    "# Create container processes\n",
    "for i in range(3):\n",
    "    env.process(container(env, f\"C{i+1}\", truck, crane))\n",
    "\n",
    "# Schedule train departure event\n",
    "env.process(daily_train_departure(env))\n",
    "\n",
    "# Run simulation\n",
    "env.run(until=24)  # Exactly one day"
   ]
  },
  {
   "cell_type": "code",
   "execution_count": null,
   "id": "24dde0b2-b32e-480a-a7ee-8f71879e3818",
   "metadata": {},
   "outputs": [],
   "source": []
  },
  {
   "cell_type": "code",
   "execution_count": null,
   "id": "d807d1f1-0c43-4a37-b055-5ae6e62b54e3",
   "metadata": {},
   "outputs": [],
   "source": []
  },
  {
   "cell_type": "code",
   "execution_count": null,
   "id": "6a517703-aca6-4d2c-9204-e6460870ad02",
   "metadata": {},
   "outputs": [],
   "source": []
  },
  {
   "cell_type": "code",
   "execution_count": null,
   "id": "5e6f4473-ec4a-4fda-acf3-9bb9f7a738f1",
   "metadata": {},
   "outputs": [],
   "source": []
  }
 ],
 "metadata": {
  "kernelspec": {
   "display_name": "Python [conda env:base] *",
   "language": "python",
   "name": "conda-base-py"
  },
  "language_info": {
   "codemirror_mode": {
    "name": "ipython",
    "version": 3
   },
   "file_extension": ".py",
   "mimetype": "text/x-python",
   "name": "python",
   "nbconvert_exporter": "python",
   "pygments_lexer": "ipython3",
   "version": "3.12.7"
  }
 },
 "nbformat": 4,
 "nbformat_minor": 5
}
